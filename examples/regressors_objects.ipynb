{
 "cells": [
  {
   "cell_type": "code",
   "execution_count": 1,
   "id": "d3461cd1",
   "metadata": {},
   "outputs": [],
   "source": [
    "import matplotlib.pyplot as plt\n",
    "# ^^^ pyforest auto-imports - don't write above this line\n",
    "import numpy as np\n",
    "import sys\n",
    "sys.path.append(\"/home/javi/Documents/brainhack-physio-project/code\")\n",
    "from input import getData, getInfoData, interpMissingData, getLines, load_cmrr_info, load_cmrr_physio\n",
    "from events import compute_max_events\n",
    "from clean import butter_bandpass_filter\n",
    "from scipy.signal import welch"
   ]
  },
  {
   "cell_type": "code",
   "execution_count": 3,
   "id": "4c37c1d6",
   "metadata": {},
   "outputs": [],
   "source": [
    "def interpolate_data(dat):\n",
    "    new_ticks = dat[:,0]\n",
    "    n_ch = dat.shape[1]-1\n",
    "    new_signal = np.zeros((len(new_ticks), n_ch))\n",
    "    for ii in range(1,n_ch+1):\n",
    "        signal = dat[:, ii]\n",
    "        old_ticks = dat[:,0][signal!=0.]\n",
    "        signal_old = signal[signal!=0.]\n",
    "        new_signal[:,ii-1] = interp1d(old_ticks, signal_old,\n",
    "                                      kind=\"linear\", fill_value=\"extrapolate\")(new_ticks)\n",
    "        \n",
    "    return new_signal   "
   ]
  },
  {
   "cell_type": "code",
   "execution_count": 18,
   "id": "6975ac91",
   "metadata": {},
   "outputs": [
    {
     "data": {
      "text/plain": [
       "array([[0.00000e+00, 7.01000e+02],\n",
       "       [1.00000e+00, 0.00000e+00],\n",
       "       [2.00000e+00, 0.00000e+00],\n",
       "       ...,\n",
       "       [2.24118e+05, 0.00000e+00],\n",
       "       [2.24119e+05, 0.00000e+00],\n",
       "       [2.24120e+05, 0.00000e+00]])"
      ]
     },
     "execution_count": 18,
     "metadata": {},
     "output_type": "execute_result"
    }
   ],
   "source": [
    "resp"
   ]
  },
  {
   "cell_type": "code",
   "execution_count": 16,
   "id": "26c9e49e",
   "metadata": {},
   "outputs": [
    {
     "data": {
      "text/plain": [
       "299.970189701897"
      ]
     },
     "execution_count": 16,
     "metadata": {},
     "output_type": "execute_result"
    }
   ],
   "source": [
    "(info[-1, 3] - info[0, 2])/n_vols"
   ]
  },
  {
   "cell_type": "code",
   "execution_count": 5,
   "id": "f8c5c9a9",
   "metadata": {},
   "outputs": [
    {
     "name": "stdout",
     "output_type": "stream",
     "text": [
      "6.99 ns ± 0.0704 ns per loop (mean ± std. dev. of 7 runs, 100000000 loops each)\n"
     ]
    }
   ],
   "source": [
    "%timeit 100"
   ]
  },
  {
   "cell_type": "code",
   "execution_count": 7,
   "id": "7af40e60",
   "metadata": {},
   "outputs": [
    {
     "name": "stdout",
     "output_type": "stream",
     "text": [
      "6.76 ns ± 0.13 ns per loop (mean ± std. dev. of 7 runs, 100000000 loops each)\n"
     ]
    },
    {
     "data": {
      "text/plain": [
       "(array([[0.0000000e+00, 0.0000000e+00, 2.1892140e+07, 2.1892162e+07],\n",
       "        [0.0000000e+00, 8.0000000e+00, 2.1892140e+07, 2.1892162e+07],\n",
       "        [0.0000000e+00, 1.6000000e+01, 2.1892140e+07, 2.1892162e+07],\n",
       "        ...,\n",
       "        [7.3700000e+02, 1.3000000e+01, 2.2113495e+07, 2.2113518e+07],\n",
       "        [7.3700000e+02, 2.1000000e+01, 2.2113495e+07, 2.2113518e+07],\n",
       "        [7.3700000e+02, 2.9000000e+01, 2.2113495e+07, 2.2113518e+07]]),\n",
       " 21889410,\n",
       " 22113530,\n",
       " 738,\n",
       " 32,\n",
       " 300)"
      ]
     },
     "execution_count": 7,
     "metadata": {},
     "output_type": "execute_result"
    }
   ],
   "source": [
    "%timeit 100\n",
    "getInfoData('../data/sample1/Physio_sample1_Info.log', range(4))"
   ]
  },
  {
   "cell_type": "code",
   "execution_count": 3,
   "id": "a596bab0",
   "metadata": {},
   "outputs": [
    {
     "data": {
      "text/plain": [
       "{'uuid': '6ec4c7ab-b798-4eec-989c-9458617d425c',\n",
       " 'log_version': 'EJA_1',\n",
       " 'n_slices': 32,\n",
       " 'n_vols': 738,\n",
       " 'num_echoes': 1,\n",
       " 'first_time': 21889410,\n",
       " 'last_time': 22113530}"
      ]
     },
     "execution_count": 3,
     "metadata": {},
     "output_type": "execute_result"
    }
   ],
   "source": [
    "info_dict"
   ]
  },
  {
   "cell_type": "code",
   "execution_count": 2,
   "id": "83e4c12c",
   "metadata": {},
   "outputs": [],
   "source": [
    "scan_ticks, info_dict = load_cmrr_info('../data/sample1/Physio_sample1_Info.log')"
   ]
  },
  {
   "cell_type": "code",
   "execution_count": 14,
   "id": "6e8276fe",
   "metadata": {},
   "outputs": [
    {
     "name": "stdout",
     "output_type": "stream",
     "text": [
      "6.6 ns ± 0.0581 ns per loop (mean ± std. dev. of 7 runs, 100000000 loops each)\n"
     ]
    }
   ],
   "source": [
    "%timeit 100\n",
    "foo,foo_2, foo_3=load_cmrr_physio(\"../data/sample1/Physio_sample1_ECG.log\", scan_ticks=scan_ticks, info_dict=info_dict)"
   ]
  },
  {
   "cell_type": "code",
   "execution_count": 6,
   "id": "2afc3d3e",
   "metadata": {},
   "outputs": [
    {
     "data": {
      "text/plain": [
       "{'uuid': '6ec4c7ab-b798-4eec-989c-9458617d425c',\n",
       " 'log_version': 'EJA_1',\n",
       " 'n_slices': 32,\n",
       " 'n_vols': 738,\n",
       " 'num_echoes': 1,\n",
       " 'first_time': 21889410,\n",
       " 'last_time': 22113530}"
      ]
     },
     "execution_count": 6,
     "metadata": {},
     "output_type": "execute_result"
    }
   ],
   "source": [
    "info_dict"
   ]
  },
  {
   "cell_type": "code",
   "execution_count": 7,
   "id": "dfee8d4c",
   "metadata": {},
   "outputs": [
    {
     "data": {
      "text/plain": [
       "0.7499288617886178"
      ]
     },
     "execution_count": 7,
     "metadata": {},
     "output_type": "execute_result"
    }
   ],
   "source": [
    "221379/400/738"
   ]
  },
  {
   "cell_type": "code",
   "execution_count": 3,
   "id": "6f5a364a",
   "metadata": {},
   "outputs": [
    {
     "data": {
      "text/plain": [
       "(array([[1306., 1792., 2474., 2469.],\n",
       "        [1452., 1859., 2309., 2335.],\n",
       "        [1593., 1877., 2206., 2250.],\n",
       "        ...,\n",
       "        [2097., 2049., 2048., 2067.],\n",
       "        [2098., 2051., 2047., 2067.],\n",
       "        [2099., 2051., 2047., 2068.]]),\n",
       " array([  2730,   2731,   2732, ..., 224106, 224107, 224108]),\n",
       " {'uuid': '6ec4c7ab-b798-4eec-989c-9458617d425c',\n",
       "  'scan_date': '20190813_151159',\n",
       "  'log_version': 'EJA_1',\n",
       "  'log_data_type': 'ECG',\n",
       "  'sample_time': '1'})"
      ]
     },
     "execution_count": 3,
     "metadata": {},
     "output_type": "execute_result"
    }
   ],
   "source": [
    "load_cmrr_physio(\"../data/sample1/Physio_sample1_ECG.log\", \n",
    "                 scan_ticks=scan_ticks, info_dict=info_dict, interpolate=True)"
   ]
  },
  {
   "cell_type": "code",
   "execution_count": 13,
   "id": "c9d0a04a",
   "metadata": {},
   "outputs": [
    {
     "name": "stdout",
     "output_type": "stream",
     "text": [
      "6.82 ns ± 0.25 ns per loop (mean ± std. dev. of 7 runs, 100000000 loops each)\n"
     ]
    }
   ],
   "source": [
    "%timeit 100\n",
    "ecg,_,_ =  getData(\"../data/sample1/Physio_sample1_ECG.log\", initial_time, final_time)"
   ]
  },
  {
   "cell_type": "code",
   "execution_count": 2,
   "id": "12118d30",
   "metadata": {},
   "outputs": [
    {
     "name": "stdout",
     "output_type": "stream",
     "text": [
      "CPU times: user 3.07 s, sys: 32.5 ms, total: 3.1 s\n",
      "Wall time: 3.11 s\n"
     ]
    },
    {
     "data": {
      "text/plain": [
       "array([[0.00000000e+00, 1.80000000e+03],\n",
       "       [1.00000000e+00, 1.80199808e+03],\n",
       "       [2.00000000e+00, 1.80200000e+03],\n",
       "       ...,\n",
       "       [2.24118000e+05, 2.23300000e+03],\n",
       "       [2.24119000e+05, 2.23200000e+03],\n",
       "       [2.24120000e+05, 2.23100000e+03]])"
      ]
     },
     "execution_count": 2,
     "metadata": {},
     "output_type": "execute_result"
    }
   ],
   "source": [
    "%%time\n",
    "info,initial_time,final_time,n_vols,n_slices,rep_time = getInfoData('../data/sample1/Physio_sample1_Info.log', range(4))\n",
    "ecg,_,_ =  getData(\"../data/sample1/Physio_sample1_ECG.log\", initial_time, final_time)\n",
    "interpMissingData(ecg)\n",
    "resp, _,_= getData(\"../data/sample1/Physio_sample1_RESP.log\", initial_time, final_time)\n",
    "interpMissingData(resp)\n",
    "puls, _,_= getData(\"../data/sample1/Physio_sample1_PULS.log\", initial_time, final_time)\n",
    "interpMissingData(puls)"
   ]
  },
  {
   "cell_type": "code",
   "execution_count": 6,
   "id": "1122d147",
   "metadata": {},
   "outputs": [],
   "source": [
    "info,initial_time,final_time,n_vols,n_slices,rep_time = getInfoData('../data/sample1/Physio_sample1_Info.log', range(4))\n"
   ]
  },
  {
   "cell_type": "code",
   "execution_count": 2,
   "id": "ed17aaf2",
   "metadata": {},
   "outputs": [
    {
     "ename": "NameError",
     "evalue": "name 'interpolate_data' is not defined",
     "output_type": "error",
     "traceback": [
      "\u001b[0;31m---------------------------------------------------------------------------\u001b[0m",
      "\u001b[0;31mNameError\u001b[0m                                 Traceback (most recent call last)",
      "\u001b[0;32m<timed exec>\u001b[0m in \u001b[0;36m<module>\u001b[0;34m\u001b[0m\n",
      "\u001b[0;31mNameError\u001b[0m: name 'interpolate_data' is not defined"
     ]
    }
   ],
   "source": [
    "%%time\n",
    "info,initial_time,final_time,n_vols,n_slices,rep_time = getInfoData('../data/sample1/Physio_sample1_Info.log', range(4))\n",
    "ecg,_,_ =  getData(\"../data/sample1/Physio_sample1_ECG.log\", initial_time, final_time)\n",
    "interpolate_data(ecg)\n",
    "resp, _,_= getData(\"../data/sample1/Physio_sample1_RESP.log\", initial_time, final_time)\n",
    "interpolate_data(resp)\n",
    "puls, _,_= getData(\"../data/sample1/Physio_sample1_PULS.log\", initial_time, final_time)\n",
    "interpolate_data(puls)"
   ]
  },
  {
   "cell_type": "code",
   "execution_count": 121,
   "id": "228a5ea8",
   "metadata": {},
   "outputs": [
    {
     "data": {
      "text/plain": [
       "(224121, 4)"
      ]
     },
     "execution_count": 121,
     "metadata": {},
     "output_type": "execute_result"
    }
   ],
   "source": [
    "interpolate_data(ecg).shape"
   ]
  },
  {
   "cell_type": "code",
   "execution_count": 113,
   "id": "05469730",
   "metadata": {},
   "outputs": [
    {
     "data": {
      "text/plain": [
       "array([1800., 1801., 1802., ..., 2233., 2232., 2231.])"
      ]
     },
     "execution_count": 113,
     "metadata": {},
     "output_type": "execute_result"
    }
   ],
   "source": [
    "n_ticks = puls[:,0]\n",
    "old_ticks = puls[:,0][puls[:,1]!=0.]\n",
    "singal_old = puls[:,1][puls[:,1]!=0.]\n",
    "interp1d(old_ticks, singal_old, kind=\"linear\", fill_value=\"extrapolate\")(n_ticks)"
   ]
  },
  {
   "cell_type": "code",
   "execution_count": 102,
   "id": "e2263f93",
   "metadata": {},
   "outputs": [
    {
     "name": "stdout",
     "output_type": "stream",
     "text": [
      "CPU times: user 2.61 s, sys: 66.2 ms, total: 2.68 s\n",
      "Wall time: 2.67 s\n"
     ]
    },
    {
     "data": {
      "text/plain": [
       "array([[0.00000000e+00, 7.01000000e+02],\n",
       "       [1.00000000e+00, 7.34991098e+02],\n",
       "       [2.00000000e+00, 7.34992370e+02],\n",
       "       ...,\n",
       "       [2.24118000e+05, 1.00687500e+03],\n",
       "       [2.24119000e+05, 1.00500000e+03],\n",
       "       [2.24120000e+05, 1.00312500e+03]])"
      ]
     },
     "execution_count": 102,
     "metadata": {},
     "output_type": "execute_result"
    }
   ],
   "source": [
    "%%time\n",
    "info,initial_time,final_time,n_vols,n_slices,rep_time = getInfoData('../data/sample1/Physio_sample1_Info.log', range(4))\n",
    "ecg,_,_ = getData(\"../data/sample1/Physio_sample1_ECG.log\", initial_time, final_time)\n",
    "resp,_,_= getData(\"../data/sample1/Physio_sample1_RESP.log\", initial_time, final_time)\n",
    "\n",
    "interpMissingData(resp)"
   ]
  },
  {
   "cell_type": "code",
   "execution_count": 100,
   "id": "ab484b43",
   "metadata": {},
   "outputs": [
    {
     "name": "stdout",
     "output_type": "stream",
     "text": [
      "CPU times: user 27.5 ms, sys: 3.45 ms, total: 30.9 ms\n",
      "Wall time: 27.8 ms\n"
     ]
    }
   ],
   "source": []
  },
  {
   "cell_type": "code",
   "execution_count": 57,
   "id": "37e41515",
   "metadata": {},
   "outputs": [],
   "source": [
    "from scipy.interpolate import interp1d"
   ]
  },
  {
   "cell_type": "code",
   "execution_count": 79,
   "id": "4d8843fd",
   "metadata": {},
   "outputs": [],
   "source": [
    "interp1d?"
   ]
  },
  {
   "cell_type": "code",
   "execution_count": 97,
   "id": "677255bc",
   "metadata": {},
   "outputs": [
    {
     "data": {
      "text/plain": [
       "array([701.        , 705.85714286, 710.71428571, 715.57142857,\n",
       "       720.42857143, 725.28571429, 730.14285714, 735.        ])"
      ]
     },
     "execution_count": 97,
     "metadata": {},
     "output_type": "execute_result"
    }
   ],
   "source": [
    "np.linspace(singal_old[0], singal_old[1], 8)"
   ]
  },
  {
   "cell_type": "code",
   "execution_count": 89,
   "id": "3abf06c3",
   "metadata": {},
   "outputs": [
    {
     "data": {
      "text/plain": [
       "array([701.   , 705.25 , 709.5  , 713.75 , 718.   , 722.25 , 726.5  ,\n",
       "       730.75 , 735.   , 743.875, 752.75 , 761.625, 770.5  , 779.375,\n",
       "       788.25 , 797.125, 806.   , 814.5  , 823.   , 831.5  ])"
      ]
     },
     "execution_count": 89,
     "metadata": {},
     "output_type": "execute_result"
    }
   ],
   "source": [
    "signal_new[:20]"
   ]
  },
  {
   "cell_type": "code",
   "execution_count": 99,
   "id": "7ba5953a",
   "metadata": {},
   "outputs": [
    {
     "name": "stdout",
     "output_type": "stream",
     "text": [
      "CPU times: user 759 ms, sys: 0 ns, total: 759 ms\n",
      "Wall time: 756 ms\n"
     ]
    },
    {
     "data": {
      "text/plain": [
       "array([[0.00000000e+00, 7.01000000e+02],\n",
       "       [1.00000000e+00, 7.34991098e+02],\n",
       "       [2.00000000e+00, 7.34992370e+02],\n",
       "       ...,\n",
       "       [2.24118000e+05, 1.00687500e+03],\n",
       "       [2.24119000e+05, 1.00500000e+03],\n",
       "       [2.24120000e+05, 1.00312500e+03]])"
      ]
     },
     "execution_count": 99,
     "metadata": {},
     "output_type": "execute_result"
    }
   ],
   "source": [
    "%%time\n",
    "interpMissingData(resp)"
   ]
  },
  {
   "cell_type": "code",
   "execution_count": 24,
   "id": "98c330e8",
   "metadata": {},
   "outputs": [
    {
     "data": {
      "text/plain": [
       "array([224120.,   1970.,   2064.,   2066.,   2046.])"
      ]
     },
     "execution_count": 24,
     "metadata": {},
     "output_type": "execute_result"
    }
   ],
   "source": [
    "getData(\"../data/sample1/Physio_sample1_ECG.log\", initial_time, final_time)[0][-1]"
   ]
  },
  {
   "cell_type": "code",
   "execution_count": 3,
   "id": "84c142b0",
   "metadata": {},
   "outputs": [],
   "source": [
    "ecg_rate = 400.\n",
    "time_physio = ecg[:,0]/ecg_rate # In sec\n",
    "ecg_signal = ecg[:,1:]\n",
    "scan_rate = 1/2\n",
    "time_scan = np.arange(280)/scan_rate"
   ]
  },
  {
   "cell_type": "code",
   "execution_count": 4,
   "id": "b9280472",
   "metadata": {},
   "outputs": [],
   "source": [
    "low_cut = 0.1\n",
    "high_cut = 15.0\n",
    "delta = 200\n",
    "peak_rise = 0.95"
   ]
  },
  {
   "cell_type": "code",
   "execution_count": 5,
   "id": "8db07aa2",
   "metadata": {},
   "outputs": [],
   "source": [
    "ix_1 = 0\n",
    "ix_2 = 3\n",
    "ground_ecg = ecg_signal[:,ix_1]\n",
    "\n",
    "signal = ground_ecg - ecg_signal[:,ix_2] \n",
    "\n",
    "signal = signal - np.mean(signal)\n",
    "signal_filt = butter_bandpass_filter(signal,lowcut=low_cut, highcut=high_cut, fs=ecg_rate)"
   ]
  },
  {
   "cell_type": "code",
   "execution_count": 6,
   "id": "374258d0",
   "metadata": {},
   "outputs": [
    {
     "data": {
      "text/plain": [
       "(10000.0, 15000.0)"
      ]
     },
     "execution_count": 6,
     "metadata": {},
     "output_type": "execute_result"
    },
    {
     "data": {
      "image/png": "[encoded data removed]",
      "text/plain": [
       "<Figure size 432x288 with 1 Axes>"
      ]
     },
     "metadata": {
      "needs_background": "light"
     },
     "output_type": "display_data"
    }
   ],
   "source": [
    "plt.plot(signal_filt)\n",
    "plt.xlim([10000,15000])"
   ]
  },
  {
   "cell_type": "code",
   "execution_count": 1,
   "id": "c61cebeb",
   "metadata": {},
   "outputs": [],
   "source": [
    "import sys\n",
    "sys.path.append(\"../code\")"
   ]
  },
  {
   "cell_type": "code",
   "execution_count": 2,
   "id": "8757edc7",
   "metadata": {},
   "outputs": [],
   "source": [
    "from regressors import RetroicorPhysio, RVPhysio, HVPhysio"
   ]
  },
  {
   "cell_type": "code",
   "execution_count": 19,
   "id": "4c87a54d",
   "metadata": {},
   "outputs": [
    {
     "data": {
      "text/plain": [
       "(0.0, 25.0)"
      ]
     },
     "execution_count": 19,
     "metadata": {},
     "output_type": "execute_result"
    },
    {
     "data": {
      "image/png": "[encoded data removed]",
      "text/plain": [
       "<Figure size 432x288 with 1 Axes>"
      ]
     },
     "metadata": {
      "needs_background": "light"
     },
     "output_type": "display_data"
    }
   ],
   "source": [
    "from scipy.signal import resample\n",
    "plt.plot(np.sin(resample(np.arange(100)*2*np.pi, 1000)))\n",
    "plt.xlim([0,25])"
   ]
  },
  {
   "cell_type": "code",
   "execution_count": 11,
   "id": "01787ede",
   "metadata": {},
   "outputs": [
    {
     "ename": "ValueError",
     "evalue": "'foo' transform option passed, but only 'mean' (default), 'zscore' or 'abs' are allowed",
     "output_type": "error",
     "traceback": [
      "\u001b[0;31m---------------------------------------------------------------------------\u001b[0m",
      "\u001b[0;31mValueError\u001b[0m                                Traceback (most recent call last)",
      "\u001b[0;32m<ipython-input-11-55099b3876f1>\u001b[0m in \u001b[0;36m<module>\u001b[0;34m\u001b[0m\n\u001b[0;32m----> 1\u001b[0;31m \u001b[0mretroicor\u001b[0m\u001b[0;34m.\u001b[0m\u001b[0mcompute_regressors\u001b[0m\u001b[0;34m(\u001b[0m\u001b[0msignal\u001b[0m\u001b[0;34m=\u001b[0m\u001b[0msignal_filt\u001b[0m\u001b[0;34m[\u001b[0m\u001b[0;34m:\u001b[0m\u001b[0;34m,\u001b[0m \u001b[0;32mNone\u001b[0m\u001b[0;34m]\u001b[0m\u001b[0;34m,\u001b[0m \u001b[0mtime_physio\u001b[0m\u001b[0;34m=\u001b[0m\u001b[0mtime_physio\u001b[0m\u001b[0;34m,\u001b[0m \u001b[0mtime_scan\u001b[0m\u001b[0;34m=\u001b[0m\u001b[0mtime_scan\u001b[0m\u001b[0;34m)\u001b[0m \u001b[0;34m==\u001b[0m \u001b[0mValueError\u001b[0m\u001b[0;34m\u001b[0m\u001b[0;34m\u001b[0m\u001b[0m\n\u001b[0m",
      "\u001b[0;32m~/Documents/brainhack-physio-project/code/regressors.py\u001b[0m in \u001b[0;36mcompute_regressors\u001b[0;34m(self, signal, time_physio, time_scan)\u001b[0m\n\u001b[1;32m     96\u001b[0m \u001b[0;34m\u001b[0m\u001b[0m\n\u001b[1;32m     97\u001b[0m         \u001b[0;32mif\u001b[0m \u001b[0mself\u001b[0m\u001b[0;34m.\u001b[0m\u001b[0mtransform\u001b[0m \u001b[0;32mnot\u001b[0m \u001b[0;32min\u001b[0m \u001b[0;34m[\u001b[0m\u001b[0;34m\"mean\"\u001b[0m\u001b[0;34m,\u001b[0m \u001b[0;34m\"zscore\"\u001b[0m\u001b[0;34m,\u001b[0m \u001b[0;34m\"abs\"\u001b[0m\u001b[0;34m]\u001b[0m\u001b[0;34m:\u001b[0m\u001b[0;34m\u001b[0m\u001b[0;34m\u001b[0m\u001b[0m\n\u001b[0;32m---> 98\u001b[0;31m             raise ValueError(f\"'{self.transform}' transform option passed, \"\n\u001b[0m\u001b[1;32m     99\u001b[0m                              \u001b[0;34m\"but only 'mean' (default), 'zscore' or 'abs' \"\u001b[0m\u001b[0;34m\u001b[0m\u001b[0;34m\u001b[0m\u001b[0m\n\u001b[1;32m    100\u001b[0m                              \"are allowed\")\n",
      "\u001b[0;31mValueError\u001b[0m: 'foo' transform option passed, but only 'mean' (default), 'zscore' or 'abs' are allowed"
     ]
    }
   ],
   "source": [
    "retroicor.compute_regressors(signal=signal_filt[:, None], time_physio=time_physio, time_scan=time_scan) == ValueError"
   ]
  },
  {
   "cell_type": "code",
   "execution_count": 9,
   "id": "59a5bacb",
   "metadata": {},
   "outputs": [
    {
     "ename": "ValueError",
     "evalue": "'foo' transform option passed, but only 'mean' (default), 'zscore' or 'abs' are allowed",
     "output_type": "error",
     "traceback": [
      "\u001b[0;31m---------------------------------------------------------------------------\u001b[0m",
      "\u001b[0;31mValueError\u001b[0m                                Traceback (most recent call last)",
      "\u001b[0;32m<ipython-input-9-e3be0e195a5f>\u001b[0m in \u001b[0;36m<module>\u001b[0;34m\u001b[0m\n\u001b[1;32m      6\u001b[0m                             \u001b[0mpeak_rise\u001b[0m\u001b[0;34m=\u001b[0m\u001b[0mpeak_rise\u001b[0m\u001b[0;34m,\u001b[0m\u001b[0;34m\u001b[0m\u001b[0;34m\u001b[0m\u001b[0m\n\u001b[1;32m      7\u001b[0m                             scan_rate=scan_rate)\n\u001b[0;32m----> 8\u001b[0;31m \u001b[0mfoo\u001b[0m \u001b[0;34m=\u001b[0m \u001b[0mretroicor\u001b[0m\u001b[0;34m.\u001b[0m\u001b[0mcompute_regressors\u001b[0m\u001b[0;34m(\u001b[0m\u001b[0msignal\u001b[0m\u001b[0;34m=\u001b[0m\u001b[0msignal_filt\u001b[0m\u001b[0;34m[\u001b[0m\u001b[0;34m:\u001b[0m\u001b[0;34m,\u001b[0m \u001b[0;32mNone\u001b[0m\u001b[0;34m]\u001b[0m\u001b[0;34m,\u001b[0m \u001b[0mtime_physio\u001b[0m\u001b[0;34m=\u001b[0m\u001b[0mtime_physio\u001b[0m\u001b[0;34m,\u001b[0m \u001b[0mtime_scan\u001b[0m\u001b[0;34m=\u001b[0m\u001b[0mtime_scan\u001b[0m\u001b[0;34m)\u001b[0m\u001b[0;34m\u001b[0m\u001b[0;34m\u001b[0m\u001b[0m\n\u001b[0m",
      "\u001b[0;32m~/Documents/brainhack-physio-project/code/regressors.py\u001b[0m in \u001b[0;36mcompute_regressors\u001b[0;34m(self, signal, time_physio, time_scan)\u001b[0m\n\u001b[1;32m     96\u001b[0m \u001b[0;34m\u001b[0m\u001b[0m\n\u001b[1;32m     97\u001b[0m         \u001b[0;32mif\u001b[0m \u001b[0mself\u001b[0m\u001b[0;34m.\u001b[0m\u001b[0mtransform\u001b[0m \u001b[0;32mnot\u001b[0m \u001b[0;32min\u001b[0m \u001b[0;34m[\u001b[0m\u001b[0;34m\"mean\"\u001b[0m\u001b[0;34m,\u001b[0m \u001b[0;34m\"zscore\"\u001b[0m\u001b[0;34m,\u001b[0m \u001b[0;34m\"abs\"\u001b[0m\u001b[0;34m]\u001b[0m\u001b[0;34m:\u001b[0m\u001b[0;34m\u001b[0m\u001b[0;34m\u001b[0m\u001b[0m\n\u001b[0;32m---> 98\u001b[0;31m             raise ValueError(f\"'{self.transform}' transform option passed, \"\n\u001b[0m\u001b[1;32m     99\u001b[0m                              \u001b[0;34m\"but only 'mean' (default), 'zscore' or 'abs' \"\u001b[0m\u001b[0;34m\u001b[0m\u001b[0;34m\u001b[0m\u001b[0m\n\u001b[1;32m    100\u001b[0m                              \"are allowed\")\n",
      "\u001b[0;31mValueError\u001b[0m: 'foo' transform option passed, but only 'mean' (default), 'zscore' or 'abs' are allowed"
     ]
    }
   ],
   "source": [
    "retroicor = RetroicorPhysio(physio_rate=400, \n",
    "                            delta=delta, \n",
    "                            transform=\"foo\", \n",
    "                            filtering=\"eo\",\n",
    "                            high_pass=100,\n",
    "                            peak_rise=peak_rise, \n",
    "                            scan_rate=scan_rate)\n",
    "foo = retroicor.compute_regressors(signal=signal_filt[:, None], time_physio=time_physio, time_scan=time_scan)\n"
   ]
  },
  {
   "cell_type": "code",
   "execution_count": 8,
   "id": "00d81ce0",
   "metadata": {},
   "outputs": [],
   "source": [
    "retroicor = RetroicorPhysio(physio_rate=400, delta=deltapeak_rise=peak_rise, scan_rate=scan_rate)\n",
    "rv_physio = RVPhysio(physio_rate=400, scan_rate=scan_rate)\n",
    "hr_physio = HVPhysio(physio_rate=400, delta=delta, peak_rise=peak_rise, scan_rate=scan_rate)"
   ]
  },
  {
   "cell_type": "code",
   "execution_count": 9,
   "id": "fa559ef7",
   "metadata": {},
   "outputs": [],
   "source": [
    "foo = retroicor.compute_regressors(signal=signal_filt, time_physio=time_physio, time_scan=time_scan)\n",
    "foo_rv = rv_physio.compute_regressors(signal=signal_filt, time_physio=time_physio, time_scan=time_scan)\n",
    "foo_hr = hr_physio.compute_regressors(signal=signal_filt, time_physio=time_physio, time_scan=time_scan)"
   ]
  },
  {
   "cell_type": "code",
   "execution_count": 13,
   "id": "c1830202",
   "metadata": {},
   "outputs": [],
   "source": [
    "rv_physio.compute_regressors?"
   ]
  },
  {
   "cell_type": "code",
   "execution_count": 20,
   "id": "cd07b1ef",
   "metadata": {},
   "outputs": [
    {
     "data": {
      "text/plain": [
       "(10.0, 100.0)"
      ]
     },
     "execution_count": 20,
     "metadata": {},
     "output_type": "execute_result"
    },
    {
     "data": {
      "image/png": "[encoded data removed]",
      "text/plain": [
       "<Figure size 432x288 with 1 Axes>"
      ]
     },
     "metadata": {
      "needs_background": "light"
     },
     "output_type": "display_data"
    }
   ],
   "source": [
    "plt.plot(scan_time, foo[:,0])\n",
    "plt.scatter(scan_time, foo[:,0])\n",
    "plt.xlim([10,100])"
   ]
  },
  {
   "cell_type": "code",
   "execution_count": 21,
   "id": "4210d5bc",
   "metadata": {},
   "outputs": [
    {
     "data": {
      "text/plain": [
       "RetroicorPhysio(delta=200, peak_rise=0.95, physio_rate=400)"
      ]
     },
     "execution_count": 21,
     "metadata": {},
     "output_type": "execute_result"
    }
   ],
   "source": [
    "retroicor"
   ]
  }
 ],
 "metadata": {
  "kernelspec": {
   "display_name": "Python 3",
   "language": "python",
   "name": "python3"
  },
  "language_info": {
   "codemirror_mode": {
    "name": "ipython",
    "version": 3
   },
   "file_extension": ".py",
   "mimetype": "text/x-python",
   "name": "python",
   "nbconvert_exporter": "python",
   "pygments_lexer": "ipython3",
   "version": "3.8.3"
  }
 },
 "nbformat": 4,
 "nbformat_minor": 5
}
