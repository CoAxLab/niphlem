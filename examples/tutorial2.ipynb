{
 "cells": [
  {
   "cell_type": "markdown",
   "id": "111b6c24",
   "metadata": {},
   "source": [
    "# Tutorial 2: Load physio data in BIDS format"
   ]
  },
  {
   "cell_type": "markdown",
   "id": "d751a74b",
   "metadata": {},
   "source": [
    "This tutorial shows how to load physiological data that is in BIDS format. For details on BIDS specifications about physiological recordings, please visit https://bids-specification.readthedocs.io/en/stable/04-modality-specific-files/06-physiological-and-other-continuous-recordings.html"
   ]
  },
  {
   "cell_type": "markdown",
   "id": "6f49c298",
   "metadata": {},
   "source": [
    "In niphlen we've got a function, `niphlem.input_data.load_bids_physio`,  dedicated to loading data in such a format. Let's import it and show its documentation."
   ]
  },
  {
   "cell_type": "code",
   "execution_count": 1,
   "id": "caf7f001",
   "metadata": {},
   "outputs": [
    {
     "name": "stdout",
     "output_type": "stream",
     "text": [
      "\n",
      "    Load physiological data in BIDS format.\n",
      "\n",
      "    Parameters\n",
      "    ----------\n",
      "    data_file : str, pathlike\n",
      "        Path to recording bids physio file.\n",
      "    json_file : str, pathlike\n",
      "        Path to the sidecar json file of the input bids physio.\n",
      "    resample_freq : float, optional\n",
      "        Frequency to resample the data. The default is None.\n",
      "    sync_scan : bool, optional\n",
      "        Whether we want the signal to be synchronized\n",
      "        with the scanner times. The default is True.\n",
      "\n",
      "    Returns\n",
      "    -------\n",
      "    signal : ndarray\n",
      "        The signal, where each columns corresponds to a particular\n",
      "        recording, whose names can wh be identfied in the meta_info\n",
      "        dictionary returned, and the rows to observations.\n",
      "    meta_info : dict\n",
      "        Meta information that at least contains the sampling frequency,\n",
      "        the start time of the signals, and the name of each signal column.\n",
      "    \n"
     ]
    }
   ],
   "source": [
    "from niphlem.input_data import load_bids_physio\n",
    "\n",
    "print(load_bids_physio.__doc__)"
   ]
  },
  {
   "cell_type": "markdown",
   "id": "c17ed9ec",
   "metadata": {},
   "source": [
    "As we can see, this function accepts four arguments, with the last two being optional:\n",
    "\n",
    "- The first argument, *data_file*, is a path to the file that contains the data that we want to load. According to BIDS specs, physiological recordings' filenames with the data should use the \"\\_physio\" suffix and be a gzip compressed TSV file. Therefore, they should end with \"\\_physio.tsv.gz\" and niphlem will prompt an error if they are not so. \n",
    "\n",
    "- The second argument is a json sidecar file that contains meta information about the data. Again, according to BIDS, this should be a json file and contain at least three required fields: \"SamplingFrequency\", \"StartTime\" and \"Columns\". Niphlem thus checks that one passes a json file and that these fields are presented. It also checks that the number of names in \"Columns\" is the same as the number of columns in the data, otherwise it gives a warning message.\n",
    "\n",
    "- The third argument, *resample_freq*, is optional and allows you to resample the data to a given frequency. It is common that different physiological recordings are acquired at different frequencies, so this parameter allows the user to be able to have all the recordings at the same frequency. \n",
    "\n",
    "- The last argument, *sync_scan*, is also optional and basically ensures that physiological data starts at the same time of the scanner."
   ]
  },
  {
   "cell_type": "markdown",
   "id": "4897171b",
   "metadata": {},
   "source": [
    "Let's see how we can load data through this function for a couple of our recordings."
   ]
  },
  {
   "cell_type": "code",
   "execution_count": 2,
   "id": "13561232",
   "metadata": {},
   "outputs": [],
   "source": [
    "ecg_file = \"./data/demo/physio/bids/sub-06_ses-04_task-resting_run-01_recording-ECG_physio.tsv.gz\"\n",
    "ecg_json = \"./data/demo/physio/bids/sub-06_ses-04_task-resting_run-01_recording-ECG_physio.json\"\n",
    "\n",
    "puls_file = \"./data/demo/physio/bids/sub-06_ses-04_task-resting_run-01_recording-pulse_physio.tsv.gz\"\n",
    "puls_json = \"./data/demo/physio/bids/sub-06_ses-04_task-resting_run-01_recording-pulse_physio.json\""
   ]
  },
  {
   "cell_type": "markdown",
   "id": "e44dc792",
   "metadata": {},
   "source": [
    "Let's start with ECG data:"
   ]
  },
  {
   "cell_type": "code",
   "execution_count": 3,
   "id": "3c78511d",
   "metadata": {},
   "outputs": [
    {
     "name": "stdout",
     "output_type": "stream",
     "text": [
      "ECG data has 211791 observations and 7 columns.\n",
      "And they have the following meta information:\n",
      "{'Columns': ['ECG3', 'ECG2', 'ECG4', 'ECG1', 'ECG_TRIGGER', 'PULS_TRIGGER', 'scanner'], 'SamplingFrequency': 400, 'StartTime': 0.0, 'TaskName': 'resting'}\n"
     ]
    }
   ],
   "source": [
    "ecg_data, meta_ecg = load_bids_physio(ecg_file, ecg_json)\n",
    "print(\"ECG data has %d observations and %d columns.\" % ecg_data.shape)\n",
    "print(\"And they have the following meta information:\")\n",
    "print(meta_ecg)"
   ]
  },
  {
   "cell_type": "markdown",
   "id": "0184347d",
   "metadata": {},
   "source": [
    "As we can see, our ECG data have signal for four electrodes, two triggers and scanner ticks that were acquired during a resting-state task, at a frequency of 400 Hz. The first data point of the data corresponds to time=0, i.e. the starting time of the scanner. "
   ]
  },
  {
   "cell_type": "markdown",
   "id": "0c1b01d3",
   "metadata": {},
   "source": [
    "Now let's see what happens if we set *sync_scan* to False."
   ]
  },
  {
   "cell_type": "code",
   "execution_count": 4,
   "id": "247cbf85",
   "metadata": {},
   "outputs": [
    {
     "name": "stdout",
     "output_type": "stream",
     "text": [
      "ECG data has 216021 observations and 7 columns.\n",
      "And they have the following meta information:\n",
      "{'Columns': ['ECG3', 'ECG2', 'ECG4', 'ECG1', 'ECG_TRIGGER', 'PULS_TRIGGER', 'scanner'], 'SamplingFrequency': 400, 'StartTime': -10.575000000000001, 'TaskName': 'resting'}\n"
     ]
    }
   ],
   "source": [
    "ecg_data, meta_ecg = load_bids_physio(ecg_file, ecg_json, sync_scan=False)\n",
    "print(\"ECG data has %d observations and %d columns.\" % ecg_data.shape)\n",
    "print(\"And they have the following meta information:\")\n",
    "print(meta_ecg)"
   ]
  },
  {
   "cell_type": "markdown",
   "id": "28409056",
   "metadata": {},
   "source": [
    "As we can see, we have more observations than before, because we are including those physiological points acquired before scanner started to recollect data."
   ]
  },
  {
   "cell_type": "markdown",
   "id": "70bdf373",
   "metadata": {},
   "source": [
    "Now let's do the same with pulse-ox data:"
   ]
  },
  {
   "cell_type": "code",
   "execution_count": 5,
   "id": "150b1e20",
   "metadata": {},
   "outputs": [
    {
     "name": "stdout",
     "output_type": "stream",
     "text": [
      "Pulse-ox data has 105895 observations and 4 columns.\n",
      "And they have the following meta information:\n",
      "{'Columns': ['pulse', 'ECG_TRIGGER', 'PULS_TRIGGER', 'scanner'], 'SamplingFrequency': 200, 'StartTime': 0.0, 'TaskName': 'resting'}\n"
     ]
    }
   ],
   "source": [
    "puls_data, meta_puls = load_bids_physio(puls_file, json_file=puls_json)\n",
    "print(\"Pulse-ox data has %d observations and %d columns.\" % puls_data.shape)\n",
    "print(\"And they have the following meta information:\")\n",
    "print(meta_puls)"
   ]
  },
  {
   "cell_type": "markdown",
   "id": "f948bb14",
   "metadata": {},
   "source": [
    "As we can see, the pulse-ox data were instead acquired at a frequency of 200 Hz. We can try to have this signal to the same frequency of that of ECG by performing a resampling to 400 Hz."
   ]
  },
  {
   "cell_type": "code",
   "execution_count": 6,
   "id": "b3feb529",
   "metadata": {},
   "outputs": [
    {
     "name": "stdout",
     "output_type": "stream",
     "text": [
      "Pulse-ox data has been resampled to 400 Hz, so now they have 211791 observations\n",
      "And they have the following meta information:\n",
      "{'Columns': ['pulse', 'ECG_TRIGGER', 'PULS_TRIGGER', 'scanner'], 'SamplingFrequency': 400.0, 'StartTime': 0.0, 'TaskName': 'resting'}\n"
     ]
    }
   ],
   "source": [
    "puls_data, meta_puls = load_bids_physio(puls_file, json_file=puls_json, resample_freq=400)\n",
    "print(\"Pulse-ox data has been resampled to 400 Hz, \"\n",
    "      \"so now they have %d observations\" % puls_data.shape[0])\n",
    "print(\"And they have the following meta information:\")\n",
    "print(meta_puls)"
   ]
  },
  {
   "cell_type": "markdown",
   "id": "54c5a236",
   "metadata": {},
   "source": [
    "**Note**: `load_bids_physio` will fail if the files passed are not BIDS compliance. For example, if the data and json file do not have the same name pattern. Please, make sure that your data is in BIDS and that you pass it correctly."
   ]
  },
  {
   "cell_type": "code",
   "execution_count": 7,
   "id": "6e923eaa",
   "metadata": {},
   "outputs": [
    {
     "ename": "ValueError",
     "evalue": "data file and json file do not have the same name (without extensions), which invalidates  BIDS specification",
     "output_type": "error",
     "traceback": [
      "\u001b[0;31m---------------------------------------------------------------------------\u001b[0m",
      "\u001b[0;31mValueError\u001b[0m                                Traceback (most recent call last)",
      "\u001b[0;32m/tmp/ipykernel_2344130/4107982115.py\u001b[0m in \u001b[0;36m<module>\u001b[0;34m\u001b[0m\n\u001b[0;32m----> 1\u001b[0;31m \u001b[0mload_bids_physio\u001b[0m\u001b[0;34m(\u001b[0m\u001b[0mpuls_file\u001b[0m\u001b[0;34m,\u001b[0m \u001b[0mecg_json\u001b[0m\u001b[0;34m)\u001b[0m\u001b[0;34m\u001b[0m\u001b[0;34m\u001b[0m\u001b[0m\n\u001b[0m",
      "\u001b[0;32m~/anaconda3/lib/python3.8/site-packages/niphlem/input_data.py\u001b[0m in \u001b[0;36mload_bids_physio\u001b[0;34m(data_file, json_file, resample_freq, sync_scan)\u001b[0m\n\u001b[1;32m    354\u001b[0m     \u001b[0;31m# Check that both files have the same name without extensions\u001b[0m\u001b[0;34m\u001b[0m\u001b[0;34m\u001b[0m\u001b[0;34m\u001b[0m\u001b[0m\n\u001b[1;32m    355\u001b[0m     \u001b[0;32mif\u001b[0m \u001b[0mdata_file\u001b[0m\u001b[0;34m.\u001b[0m\u001b[0msplit\u001b[0m\u001b[0;34m(\u001b[0m\u001b[0;34m\".tsv.gz\"\u001b[0m\u001b[0;34m)\u001b[0m\u001b[0;34m[\u001b[0m\u001b[0;36m0\u001b[0m\u001b[0;34m]\u001b[0m \u001b[0;34m!=\u001b[0m \u001b[0mjson_file\u001b[0m\u001b[0;34m.\u001b[0m\u001b[0msplit\u001b[0m\u001b[0;34m(\u001b[0m\u001b[0;34m\".json\"\u001b[0m\u001b[0;34m)\u001b[0m\u001b[0;34m[\u001b[0m\u001b[0;36m0\u001b[0m\u001b[0;34m]\u001b[0m\u001b[0;34m:\u001b[0m\u001b[0;34m\u001b[0m\u001b[0;34m\u001b[0m\u001b[0m\n\u001b[0;32m--> 356\u001b[0;31m         raise ValueError(\"data file and json file do not have the same \"\n\u001b[0m\u001b[1;32m    357\u001b[0m                          \u001b[0;34m\"name (without extensions), which invalidates \"\u001b[0m\u001b[0;34m\u001b[0m\u001b[0;34m\u001b[0m\u001b[0m\n\u001b[1;32m    358\u001b[0m                          \" BIDS specification\")\n",
      "\u001b[0;31mValueError\u001b[0m: data file and json file do not have the same name (without extensions), which invalidates  BIDS specification"
     ]
    }
   ],
   "source": [
    "load_bids_physio(puls_file, ecg_json)"
   ]
  }
 ],
 "metadata": {
  "kernelspec": {
   "display_name": "Python 3",
   "language": "python",
   "name": "python3"
  },
  "language_info": {
   "codemirror_mode": {
    "name": "ipython",
    "version": 3
   },
   "file_extension": ".py",
   "mimetype": "text/x-python",
   "name": "python",
   "nbconvert_exporter": "python",
   "pygments_lexer": "ipython3",
   "version": "3.7.4"
  }
 },
 "nbformat": 4,
 "nbformat_minor": 5
}
