{
 "cells": [
  {
   "cell_type": "markdown",
   "id": "2cdc8c90",
   "metadata": {},
   "source": [
    "Notebook to test that old and new loading functions give the same."
   ]
  },
  {
   "cell_type": "code",
   "execution_count": 1,
   "id": "871908fb",
   "metadata": {},
   "outputs": [],
   "source": [
    "import sys\n",
    "sys.path.append(\"../code\")"
   ]
  },
  {
   "cell_type": "code",
   "execution_count": 2,
   "id": "ba464637",
   "metadata": {},
   "outputs": [],
   "source": [
    "from input import load_cmrr_data, load_cmrr_data_old, load_cmrr_info, load_cmrr_info_old"
   ]
  },
  {
   "cell_type": "code",
   "execution_count": 3,
   "id": "fbcbd35f",
   "metadata": {},
   "outputs": [],
   "source": [
    "info_file = \"../data/sample1/Physio_sample1_Info.log\"\n",
    "ecg_file = \"../data/sample1/Physio_sample1_ECG.log\"\n",
    "resp_file = \"../data/sample1/Physio_sample1_RESP.log\"\n",
    "puls_file = \"../data/sample1/Physio_sample1_PULS.log\""
   ]
  },
  {
   "cell_type": "code",
   "execution_count": 4,
   "id": "0e35e4fe",
   "metadata": {},
   "outputs": [],
   "source": [
    "assert np.allclose(np.sort(load_cmrr_info(info_file)[0][0,:].flatten()), \n",
    "                   np.sort(load_cmrr_info_old(info_file, range(4))[0][:,2]))\n",
    "\n",
    "assert np.allclose(np.sort(load_cmrr_info(info_file)[0][1,:].flatten()), \n",
    "                   np.sort(load_cmrr_info_old(info_file, range(4))[0][:,3]))"
   ]
  },
  {
   "cell_type": "code",
   "execution_count": 5,
   "id": "ff4e8c69",
   "metadata": {},
   "outputs": [
    {
     "data": {
      "text/plain": [
       "{'uuid': '6ec4c7ab-b798-4eec-989c-9458617d425c',\n",
       " 'scan_date': '20190813_151159',\n",
       " 'log_version': 'EJA_1',\n",
       " 'n_slices': 32,\n",
       " 'n_vols': 738,\n",
       " 'n_echoes': 1,\n",
       " 'init_physio': 21889410,\n",
       " 'end_physio': 22113530,\n",
       " 'init_scan': 21892140,\n",
       " 'end_scan': 22113518,\n",
       " 'repetition_time': 300.0}"
      ]
     },
     "execution_count": 5,
     "metadata": {},
     "output_type": "execute_result"
    }
   ],
   "source": [
    "_, info_dict = load_cmrr_info(info_file)\n",
    "info_dict"
   ]
  },
  {
   "cell_type": "code",
   "execution_count": 6,
   "id": "b72e0e8c",
   "metadata": {},
   "outputs": [],
   "source": [
    "assert(info_dict['init_physio']==load_cmrr_info_old(info_file, range(4))[1])\n",
    "assert(info_dict['end_physio']==load_cmrr_info_old(info_file, range(4))[2])\n",
    "assert(info_dict['n_vols']==load_cmrr_info_old(info_file, range(4))[3])\n",
    "assert(info_dict['n_slices']==load_cmrr_info_old(info_file, range(4))[4])"
   ]
  },
  {
   "cell_type": "code",
   "execution_count": 7,
   "id": "87053c0a",
   "metadata": {},
   "outputs": [
    {
     "name": "stdout",
     "output_type": "stream",
     "text": [
      "True\n",
      "True\n",
      "True\n",
      "True\n"
     ]
    }
   ],
   "source": [
    "ecg_signal_new, meta_ecg = load_cmrr_data(ecg_file, info_dict, sync_scan=False)\n",
    "ecg_signal_old,_,_ = load_cmrr_data_old(ecg_file, \n",
    "                                    first_time=info_dict['init_physio'], \n",
    "                                    last_time=info_dict['end_physio'],\n",
    "                                    interpolate=True)\n",
    "\n",
    "# Compare both signal, channel by channel. There should be all trues\n",
    "for x, y in zip(ecg_signal_old[:,1:].T, ecg_signal_new.T):\n",
    "    print(np.allclose(x,y))"
   ]
  },
  {
   "cell_type": "code",
   "execution_count": 8,
   "id": "533ec370",
   "metadata": {},
   "outputs": [
    {
     "data": {
      "text/plain": [
       "{'n_channels': 4, 'sample_rate': 1}"
      ]
     },
     "execution_count": 8,
     "metadata": {},
     "output_type": "execute_result"
    }
   ],
   "source": [
    "meta_ecg"
   ]
  },
  {
   "cell_type": "code",
   "execution_count": 9,
   "id": "aa846071",
   "metadata": {},
   "outputs": [
    {
     "name": "stdout",
     "output_type": "stream",
     "text": [
      "True\n"
     ]
    }
   ],
   "source": [
    "puls_signal_new, meta_puls = load_cmrr_data(puls_file, info_dict, sync_scan=False)\n",
    "puls_signal_old,_,_ = load_cmrr_data_old(puls_file, \n",
    "                                         first_time=info_dict['init_physio'], \n",
    "                                         last_time=info_dict['end_physio'],\n",
    "                                         interpolate=True)\n",
    "\n",
    "# Compare both signal, channel by channel. There should be all trues,\n",
    "# We only differ in the interpolation from the first to the second sample\n",
    "for x, y in zip(puls_signal_old[meta_puls['sample_rate']:,1:].T, \n",
    "                puls_signal_new[meta_puls['sample_rate']:].T):\n",
    "    print(np.allclose(x,y))"
   ]
  },
  {
   "cell_type": "code",
   "execution_count": 10,
   "id": "552286cd",
   "metadata": {},
   "outputs": [
    {
     "data": {
      "text/plain": [
       "{'n_channels': 1, 'sample_rate': 2}"
      ]
     },
     "execution_count": 10,
     "metadata": {},
     "output_type": "execute_result"
    }
   ],
   "source": [
    "meta_puls"
   ]
  },
  {
   "cell_type": "code",
   "execution_count": 11,
   "id": "393fa110",
   "metadata": {},
   "outputs": [
    {
     "name": "stdout",
     "output_type": "stream",
     "text": [
      "True\n"
     ]
    }
   ],
   "source": [
    "resp_signal_new, meta_resp = load_cmrr_data(resp_file, info_dict, sync_scan=False)\n",
    "resp_signal_old,_,_ = load_cmrr_data_old(resp_file, \n",
    "                                         first_time=info_dict['init_physio'], \n",
    "                                         last_time=info_dict['end_physio'],\n",
    "                                         interpolate=True)\n",
    "\n",
    "# Compare both signal, channel by channel. There should be all trues,\n",
    "# We only differ in the interpolation from the first to the second sample\n",
    "for x, y in zip(puls_signal_old[meta_resp['sample_rate']:,1:].T, \n",
    "                puls_signal_new[meta_resp['sample_rate']:].T):\n",
    "    print(np.allclose(x,y))"
   ]
  },
  {
   "cell_type": "code",
   "execution_count": 12,
   "id": "002fb223",
   "metadata": {},
   "outputs": [
    {
     "data": {
      "text/plain": [
       "{'n_channels': 1, 'sample_rate': 8}"
      ]
     },
     "execution_count": 12,
     "metadata": {},
     "output_type": "execute_result"
    }
   ],
   "source": [
    "meta_resp"
   ]
  },
  {
   "cell_type": "code",
   "execution_count": null,
   "id": "eca3b2dd",
   "metadata": {},
   "outputs": [],
   "source": []
  }
 ],
 "metadata": {
  "kernelspec": {
   "display_name": "Python 3 (ipykernel)",
   "language": "python",
   "name": "python3"
  },
  "language_info": {
   "codemirror_mode": {
    "name": "ipython",
    "version": 3
   },
   "file_extension": ".py",
   "mimetype": "text/x-python",
   "name": "python",
   "nbconvert_exporter": "python",
   "pygments_lexer": "ipython3",
   "version": "3.8.11"
  }
 },
 "nbformat": 4,
 "nbformat_minor": 5
}
