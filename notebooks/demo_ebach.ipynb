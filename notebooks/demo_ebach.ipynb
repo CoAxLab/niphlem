{
 "cells": [
  {
   "cell_type": "markdown",
   "id": "2a232597",
   "metadata": {},
   "source": [
    "In this notebook we are going to generate the physiological regressors for one subject from the human connectome and compute their statistical maps."
   ]
  },
  {
   "cell_type": "code",
   "execution_count": 1,
   "id": "15d1838e",
   "metadata": {},
   "outputs": [],
   "source": [
    "import numpy as np\n",
    "from nilearn.image import load_img\n",
    "import sys\n",
    "sys.path.append(\"../code\")"
   ]
  },
  {
   "cell_type": "code",
   "execution_count": 15,
   "id": "5715f995",
   "metadata": {},
   "outputs": [],
   "source": [
    "bold_img = load_img(\"../data/ebach/sub-E1058/ses-01/func/sub-E1058_ses-01_task-rest_acq-mb3_space-MNI152NLin2009cAsym_desc-preproc_bold.nii.gz\")\n",
    "confounders = pd.read_csv(\"../data/ebach/sub-E1058/ses-01/func/sub-E1058_ses-01_task-rest_acq-mb3_desc-confounds_regressors.tsv\", \n",
    "                    sep=\"\\t\")\n",
    "motion = confounders.filter(regex=\"(trans|rot)_(x|y|z)\")\n",
    "n_samples = bold_img.shape[-1]\n",
    "repetition_time = 2.0\n",
    "frame_times = np.arange(n_samples)*repetition_time"
   ]
  },
  {
   "cell_type": "code",
   "execution_count": 3,
   "id": "340ad27a",
   "metadata": {},
   "outputs": [
    {
     "data": {
      "text/plain": [
       "240"
      ]
     },
     "execution_count": 3,
     "metadata": {},
     "output_type": "execute_result"
    }
   ],
   "source": [
    "n_samples"
   ]
  },
  {
   "cell_type": "markdown",
   "id": "a2bed2f2",
   "metadata": {},
   "source": [
    "## Loading LOG files"
   ]
  },
  {
   "cell_type": "code",
   "execution_count": 5,
   "id": "1d5f42cd",
   "metadata": {},
   "outputs": [
    {
     "name": "stdout",
     "output_type": "stream",
     "text": [
      "{'uuid': '034823c3-2e93-419c-b822-2bf382f43207', 'scan_date': '20191016_110935', 'log_version': 'EJA_1', 'n_slices': 69, 'n_vols': 240, 'n_echoes': 1, 'init_physio': 16086454, 'end_physio': 16282473, 'init_scan': 16090485, 'end_scan': 16282463, 'repetition_time': 800.0}\n",
      "[[1815. 1858. 1979. 1980.]\n",
      " [2020. 1983. 1908. 1944.]\n",
      " [2188. 2061. 1910. 1966.]\n",
      " ...\n",
      " [2023. 2014. 1981. 2007.]\n",
      " [2020. 2011. 1983. 2008.]\n",
      " [2015. 2009. 1984. 2010.]]\n",
      "[[356. ]\n",
      " [356. ]\n",
      " [356. ]\n",
      " ...\n",
      " [461. ]\n",
      " [459.5]\n",
      " [458. ]]\n",
      "[[2983.]\n",
      " [3000.]\n",
      " [3017.]\n",
      " ...\n",
      " [2642.]\n",
      " [2627.]\n",
      " [2612.]]\n",
      "length of acquisition (should be ~ 480.0) =  479.9475\n"
     ]
    }
   ],
   "source": [
    "from input_data import load_cmrr_info, load_cmrr_data\n",
    "# So the second column to the respiratary signal, and the third one corresponds to ECG\n",
    "info_log = \"../data/ebach/sub-E1058/func-bold_task-rest_acq-mb3_PhysioLog/Physio_20191016_110935_034823c3-2e93-419c-b822-2bf382f43207_Info.log\"\n",
    "ecg_log = \"../data/ebach/sub-E1058/func-bold_task-rest_acq-mb3_PhysioLog/Physio_20191016_110935_034823c3-2e93-419c-b822-2bf382f43207_ECG.log\"\n",
    "resp_log = \"../data/ebach/sub-E1058/func-bold_task-rest_acq-mb3_PhysioLog/Physio_20191016_110935_034823c3-2e93-419c-b822-2bf382f43207_RESP.log\"\n",
    "puls_log = \"../data/ebach/sub-E1058/func-bold_task-rest_acq-mb3_PhysioLog/Physio_20191016_110935_034823c3-2e93-419c-b822-2bf382f43207_PULS.log\"\n",
    "\n",
    "scan_traces, info_dict = load_cmrr_info(info_log)\n",
    "\n",
    "print(info_dict)\n",
    "\n",
    "ecg_signal,_ = load_cmrr_data(ecg_log, info_dict)\n",
    "print(ecg_signal)\n",
    "\n",
    "resp_signal,_ = load_cmrr_data(resp_log, info_dict)\n",
    "print(resp_signal)\n",
    "\n",
    "puls_signal,_ = load_cmrr_data(puls_log, info_dict)\n",
    "print(puls_signal)\n",
    "\n",
    "\n",
    "assert ecg_signal.shape[0] == resp_signal.shape[0]\n",
    "assert ecg_signal.shape[0] == puls_signal.shape[0]\n",
    "\n",
    "print(f\"length of acquisition (should be ~ {info_dict['n_vols']*repetition_time}) =  {puls_signal.shape[0]/400}\")"
   ]
  },
  {
   "cell_type": "code",
   "execution_count": 6,
   "id": "03e4b025",
   "metadata": {},
   "outputs": [],
   "source": [
    "from regressors import RetroicorPhysio, RVPhysio"
   ]
  },
  {
   "cell_type": "code",
   "execution_count": 7,
   "id": "f6804d6c",
   "metadata": {},
   "outputs": [],
   "source": [
    "retro_ecg = RetroicorPhysio(physio_rate=400, \n",
    "                            t_r=repetition_time, \n",
    "                            delta=200, high_pass=0.5, \n",
    "                            low_pass=3.0, order=2, \n",
    "                            columns=\"mean\")\n",
    "ecg_regressors = retro_ecg.compute_regressors(signal=ecg_signal, time_scan=frame_times)"
   ]
  },
  {
   "cell_type": "code",
   "execution_count": 10,
   "id": "b4d32b13",
   "metadata": {},
   "outputs": [
    {
     "name": "stderr",
     "output_type": "stream",
     "text": [
      "/home/javi/.local/lib/python3.8/site-packages/nilearn/glm/__init__.py:55: FutureWarning: The nilearn.glm module is experimental. It may change in any future release of Nilearn.\n",
      "  warn('The nilearn.glm module is experimental. '\n"
     ]
    },
    {
     "data": {
      "text/html": [
       "<div>\n",
       "<style scoped>\n",
       "    .dataframe tbody tr th:only-of-type {\n",
       "        vertical-align: middle;\n",
       "    }\n",
       "\n",
       "    .dataframe tbody tr th {\n",
       "        vertical-align: top;\n",
       "    }\n",
       "\n",
       "    .dataframe thead th {\n",
       "        text-align: right;\n",
       "    }\n",
       "</style>\n",
       "<table border=\"1\" class=\"dataframe\">\n",
       "  <thead>\n",
       "    <tr style=\"text-align: right;\">\n",
       "      <th></th>\n",
       "      <th>constant</th>\n",
       "      <th>motion_1</th>\n",
       "      <th>motion_2</th>\n",
       "      <th>motion_3</th>\n",
       "      <th>motion_4</th>\n",
       "      <th>motion_5</th>\n",
       "      <th>motion_6</th>\n",
       "      <th>physio1</th>\n",
       "      <th>physio2</th>\n",
       "      <th>physio3</th>\n",
       "      <th>physio4</th>\n",
       "    </tr>\n",
       "  </thead>\n",
       "  <tbody>\n",
       "    <tr>\n",
       "      <th>0</th>\n",
       "      <td>1.0</td>\n",
       "      <td>0.000000e+00</td>\n",
       "      <td>0.000000</td>\n",
       "      <td>0.000000</td>\n",
       "      <td>0.000000</td>\n",
       "      <td>-0.000000</td>\n",
       "      <td>0.0</td>\n",
       "      <td>-0.999070</td>\n",
       "      <td>0.043107</td>\n",
       "      <td>-0.086133</td>\n",
       "      <td>-0.996284</td>\n",
       "    </tr>\n",
       "    <tr>\n",
       "      <th>1</th>\n",
       "      <td>1.0</td>\n",
       "      <td>0.000000e+00</td>\n",
       "      <td>0.040103</td>\n",
       "      <td>0.000020</td>\n",
       "      <td>-0.000497</td>\n",
       "      <td>-0.000000</td>\n",
       "      <td>0.0</td>\n",
       "      <td>0.972514</td>\n",
       "      <td>0.232844</td>\n",
       "      <td>0.452888</td>\n",
       "      <td>-0.891567</td>\n",
       "    </tr>\n",
       "    <tr>\n",
       "      <th>2</th>\n",
       "      <td>1.0</td>\n",
       "      <td>1.468590e-06</td>\n",
       "      <td>-0.004445</td>\n",
       "      <td>0.023110</td>\n",
       "      <td>-0.000041</td>\n",
       "      <td>-0.000122</td>\n",
       "      <td>0.0</td>\n",
       "      <td>0.997176</td>\n",
       "      <td>-0.075106</td>\n",
       "      <td>-0.149787</td>\n",
       "      <td>-0.988718</td>\n",
       "    </tr>\n",
       "    <tr>\n",
       "      <th>3</th>\n",
       "      <td>1.0</td>\n",
       "      <td>3.815470e-07</td>\n",
       "      <td>-0.015761</td>\n",
       "      <td>0.001249</td>\n",
       "      <td>-0.000207</td>\n",
       "      <td>-0.000069</td>\n",
       "      <td>0.0</td>\n",
       "      <td>0.863234</td>\n",
       "      <td>-0.504803</td>\n",
       "      <td>-0.871527</td>\n",
       "      <td>-0.490347</td>\n",
       "    </tr>\n",
       "    <tr>\n",
       "      <th>4</th>\n",
       "      <td>1.0</td>\n",
       "      <td>-1.084480e-02</td>\n",
       "      <td>0.011250</td>\n",
       "      <td>0.017716</td>\n",
       "      <td>-0.000300</td>\n",
       "      <td>-0.000133</td>\n",
       "      <td>0.0</td>\n",
       "      <td>0.521651</td>\n",
       "      <td>-0.853159</td>\n",
       "      <td>-0.890102</td>\n",
       "      <td>0.455761</td>\n",
       "    </tr>\n",
       "  </tbody>\n",
       "</table>\n",
       "</div>"
      ],
      "text/plain": [
       "   constant      motion_1  motion_2  motion_3  motion_4  motion_5  motion_6  \\\n",
       "0       1.0  0.000000e+00  0.000000  0.000000  0.000000 -0.000000       0.0   \n",
       "1       1.0  0.000000e+00  0.040103  0.000020 -0.000497 -0.000000       0.0   \n",
       "2       1.0  1.468590e-06 -0.004445  0.023110 -0.000041 -0.000122       0.0   \n",
       "3       1.0  3.815470e-07 -0.015761  0.001249 -0.000207 -0.000069       0.0   \n",
       "4       1.0 -1.084480e-02  0.011250  0.017716 -0.000300 -0.000133       0.0   \n",
       "\n",
       "    physio1   physio2   physio3   physio4  \n",
       "0 -0.999070  0.043107 -0.086133 -0.996284  \n",
       "1  0.972514  0.232844  0.452888 -0.891567  \n",
       "2  0.997176 -0.075106 -0.149787 -0.988718  \n",
       "3  0.863234 -0.504803 -0.871527 -0.490347  \n",
       "4  0.521651 -0.853159 -0.890102  0.455761  "
      ]
     },
     "execution_count": 10,
     "metadata": {},
     "output_type": "execute_result"
    }
   ],
   "source": [
    "from nilearn.glm.first_level import FirstLevelModel\n",
    "\n",
    "first_level = FirstLevelModel(drift_model=None, noise_model='ols', signal_scaling=False, smoothing_fwhm=6)\n",
    "dm = pd.DataFrame(np.column_stack(([1]*n_samples,  motion, ecg_regressors)), \n",
    "                  columns= [\"constant\"] + [f\"motion_{ii+1}\" for ii in range(motion.shape[1])] +\n",
    "                  [\"physio1\", \"physio2\", \"physio3\", \"physio4\"])\n",
    "dm.head()"
   ]
  },
  {
   "cell_type": "code",
   "execution_count": 13,
   "id": "8b0523d4",
   "metadata": {},
   "outputs": [],
   "source": [
    "first_level.fit(bold_img, design_matrices=dm)\n",
    "res_dict = first_level.compute_contrast(\"physio1+physio2+physio3+physio4\", stat_type=\"F\", output_type=\"all\")"
   ]
  },
  {
   "cell_type": "code",
   "execution_count": 14,
   "id": "9a95afcd",
   "metadata": {},
   "outputs": [
    {
     "name": "stderr",
     "output_type": "stream",
     "text": [
      "/home/javi/.local/lib/python3.8/site-packages/nilearn/datasets/__init__.py:86: FutureWarning: Fetchers from the nilearn.datasets module will be updated in version 0.9 to return python strings instead of bytes and Pandas dataframes instead of Numpy arrays.\n",
      "  warn(\"Fetchers from the nilearn.datasets module will be \"\n"
     ]
    },
    {
     "data": {
      "text/plain": [
       "<nilearn.plotting.displays.OrthoSlicer at 0x7fa430cc2be0>"
      ]
     },
     "execution_count": 14,
     "metadata": {},
     "output_type": "execute_result"
    },
    {
     "data": {
      "image/png": "[encoded data removed]",
      "text/plain": [
       "<Figure size 525.6x187.2 with 5 Axes>"
      ]
     },
     "metadata": {},
     "output_type": "display_data"
    }
   ],
   "source": [
    "from nilearn import plotting\n",
    "from nilearn.image import math_img\n",
    "plotting.plot_stat_map(math_img(\"img1*(img2<0.0001)\", img1=res_dict['stat'], img2=res_dict['p_value']), \n",
    "                       cut_coords=(0,0,0), title=\"F-stats Retroicor ECG\")"
   ]
  },
  {
   "cell_type": "markdown",
   "id": "9c3411da",
   "metadata": {},
   "source": [
    "## Compare this with using the signal in white matter and csf..."
   ]
  },
  {
   "cell_type": "code",
   "execution_count": 17,
   "id": "2234ba75",
   "metadata": {},
   "outputs": [
    {
     "data": {
      "text/plain": [
       "Index(['csf', 'white_matter', 'global_signal', 'std_dvars', 'dvars',\n",
       "       'framewise_displacement', 't_comp_cor_00', 't_comp_cor_01',\n",
       "       't_comp_cor_02', 't_comp_cor_03', 't_comp_cor_04', 't_comp_cor_05',\n",
       "       'a_comp_cor_00', 'a_comp_cor_01', 'a_comp_cor_02', 'a_comp_cor_03',\n",
       "       'a_comp_cor_04', 'a_comp_cor_05', 'cosine00', 'cosine01', 'cosine02',\n",
       "       'cosine03', 'cosine04', 'cosine05', 'non_steady_state_outlier00',\n",
       "       'trans_x', 'trans_y', 'trans_z', 'rot_x', 'rot_y', 'rot_z'],\n",
       "      dtype='object')"
      ]
     },
     "execution_count": 17,
     "metadata": {},
     "output_type": "execute_result"
    }
   ],
   "source": [
    "confounders.columns"
   ]
  },
  {
   "cell_type": "code",
   "execution_count": 20,
   "id": "518becf5",
   "metadata": {},
   "outputs": [
    {
     "data": {
      "text/html": [
       "<div>\n",
       "<style scoped>\n",
       "    .dataframe tbody tr th:only-of-type {\n",
       "        vertical-align: middle;\n",
       "    }\n",
       "\n",
       "    .dataframe tbody tr th {\n",
       "        vertical-align: top;\n",
       "    }\n",
       "\n",
       "    .dataframe thead th {\n",
       "        text-align: right;\n",
       "    }\n",
       "</style>\n",
       "<table border=\"1\" class=\"dataframe\">\n",
       "  <thead>\n",
       "    <tr style=\"text-align: right;\">\n",
       "      <th></th>\n",
       "      <th>constant</th>\n",
       "      <th>motion_1</th>\n",
       "      <th>motion_2</th>\n",
       "      <th>motion_3</th>\n",
       "      <th>motion_4</th>\n",
       "      <th>motion_5</th>\n",
       "      <th>motion_6</th>\n",
       "      <th>pc1</th>\n",
       "      <th>pc2</th>\n",
       "      <th>pc3</th>\n",
       "      <th>pc4</th>\n",
       "      <th>pc5</th>\n",
       "      <th>pc6</th>\n",
       "    </tr>\n",
       "  </thead>\n",
       "  <tbody>\n",
       "    <tr>\n",
       "      <th>0</th>\n",
       "      <td>1.0</td>\n",
       "      <td>0.000000e+00</td>\n",
       "      <td>0.000000</td>\n",
       "      <td>0.000000</td>\n",
       "      <td>0.000000</td>\n",
       "      <td>-0.000000</td>\n",
       "      <td>0.0</td>\n",
       "      <td>0.000000</td>\n",
       "      <td>0.000000</td>\n",
       "      <td>0.000000</td>\n",
       "      <td>0.000000</td>\n",
       "      <td>0.000000</td>\n",
       "      <td>0.000000</td>\n",
       "    </tr>\n",
       "    <tr>\n",
       "      <th>1</th>\n",
       "      <td>1.0</td>\n",
       "      <td>0.000000e+00</td>\n",
       "      <td>0.040103</td>\n",
       "      <td>0.000020</td>\n",
       "      <td>-0.000497</td>\n",
       "      <td>-0.000000</td>\n",
       "      <td>0.0</td>\n",
       "      <td>0.022949</td>\n",
       "      <td>-0.100727</td>\n",
       "      <td>0.035222</td>\n",
       "      <td>0.004519</td>\n",
       "      <td>-0.106195</td>\n",
       "      <td>0.064459</td>\n",
       "    </tr>\n",
       "    <tr>\n",
       "      <th>2</th>\n",
       "      <td>1.0</td>\n",
       "      <td>1.468590e-06</td>\n",
       "      <td>-0.004445</td>\n",
       "      <td>0.023110</td>\n",
       "      <td>-0.000041</td>\n",
       "      <td>-0.000122</td>\n",
       "      <td>0.0</td>\n",
       "      <td>0.000639</td>\n",
       "      <td>-0.116768</td>\n",
       "      <td>-0.073370</td>\n",
       "      <td>-0.085192</td>\n",
       "      <td>-0.076436</td>\n",
       "      <td>0.054207</td>\n",
       "    </tr>\n",
       "    <tr>\n",
       "      <th>3</th>\n",
       "      <td>1.0</td>\n",
       "      <td>3.815470e-07</td>\n",
       "      <td>-0.015761</td>\n",
       "      <td>0.001249</td>\n",
       "      <td>-0.000207</td>\n",
       "      <td>-0.000069</td>\n",
       "      <td>0.0</td>\n",
       "      <td>-0.047871</td>\n",
       "      <td>-0.064692</td>\n",
       "      <td>0.066441</td>\n",
       "      <td>-0.052614</td>\n",
       "      <td>-0.000246</td>\n",
       "      <td>0.126864</td>\n",
       "    </tr>\n",
       "    <tr>\n",
       "      <th>4</th>\n",
       "      <td>1.0</td>\n",
       "      <td>-1.084480e-02</td>\n",
       "      <td>0.011250</td>\n",
       "      <td>0.017716</td>\n",
       "      <td>-0.000300</td>\n",
       "      <td>-0.000133</td>\n",
       "      <td>0.0</td>\n",
       "      <td>-0.057863</td>\n",
       "      <td>-0.045291</td>\n",
       "      <td>-0.055971</td>\n",
       "      <td>0.048377</td>\n",
       "      <td>0.057543</td>\n",
       "      <td>0.091329</td>\n",
       "    </tr>\n",
       "  </tbody>\n",
       "</table>\n",
       "</div>"
      ],
      "text/plain": [
       "   constant      motion_1  motion_2  motion_3  motion_4  motion_5  motion_6  \\\n",
       "0       1.0  0.000000e+00  0.000000  0.000000  0.000000 -0.000000       0.0   \n",
       "1       1.0  0.000000e+00  0.040103  0.000020 -0.000497 -0.000000       0.0   \n",
       "2       1.0  1.468590e-06 -0.004445  0.023110 -0.000041 -0.000122       0.0   \n",
       "3       1.0  3.815470e-07 -0.015761  0.001249 -0.000207 -0.000069       0.0   \n",
       "4       1.0 -1.084480e-02  0.011250  0.017716 -0.000300 -0.000133       0.0   \n",
       "\n",
       "        pc1       pc2       pc3       pc4       pc5       pc6  \n",
       "0  0.000000  0.000000  0.000000  0.000000  0.000000  0.000000  \n",
       "1  0.022949 -0.100727  0.035222  0.004519 -0.106195  0.064459  \n",
       "2  0.000639 -0.116768 -0.073370 -0.085192 -0.076436  0.054207  \n",
       "3 -0.047871 -0.064692  0.066441 -0.052614 -0.000246  0.126864  \n",
       "4 -0.057863 -0.045291 -0.055971  0.048377  0.057543  0.091329  "
      ]
     },
     "execution_count": 20,
     "metadata": {},
     "output_type": "execute_result"
    }
   ],
   "source": [
    "# Contruct new design matrix\n",
    "acompcor_regs = confounders.filter(regex=\"a_comp_cor\")\n",
    "dm_acompcor = pd.DataFrame(np.column_stack(([1]*n_samples,  motion, acompcor_regs)), \n",
    "                           columns= [\"constant\"] + [f\"motion_{ii+1}\" for ii in range(motion.shape[1])] +\n",
    "                           [\"pc1\", \"pc2\", \"pc3\", \"pc4\", \"pc5\", \"pc6\"])\n",
    "dm_acompcor.head()"
   ]
  },
  {
   "cell_type": "code",
   "execution_count": 21,
   "id": "59e369e1",
   "metadata": {},
   "outputs": [],
   "source": [
    "first_level.fit(bold_img, design_matrices=dm_acompcor)\n",
    "res_dict_acompcor = first_level.compute_contrast(\"pc1+pc2+pc3+pc4+pc5+pc6\", stat_type=\"F\", output_type=\"all\")"
   ]
  },
  {
   "cell_type": "code",
   "execution_count": 22,
   "id": "3428c21a",
   "metadata": {},
   "outputs": [
    {
     "data": {
      "text/plain": [
       "<nilearn.plotting.displays.OrthoSlicer at 0x7fa4729142b0>"
      ]
     },
     "execution_count": 22,
     "metadata": {},
     "output_type": "execute_result"
    },
    {
     "data": {
      "image/png": "[encoded data removed]",
      "text/plain": [
       "<Figure size 525.6x187.2 with 5 Axes>"
      ]
     },
     "metadata": {},
     "output_type": "display_data"
    }
   ],
   "source": [
    "from nilearn import plotting\n",
    "from nilearn.image import math_img\n",
    "plotting.plot_stat_map(math_img(\"img1*(img2<0.0001)\", \n",
    "                                img1=res_dict_acompcor['stat'], \n",
    "                                img2=res_dict_acompcor['p_value']), \n",
    "                       cut_coords=(0,0,0), title=\"F-stats WM+CSF 6 PCs\")"
   ]
  },
  {
   "cell_type": "code",
   "execution_count": null,
   "id": "b6f46cc0",
   "metadata": {},
   "outputs": [],
   "source": []
  }
 ],
 "metadata": {
  "kernelspec": {
   "display_name": "Python 3 (ipykernel)",
   "language": "python",
   "name": "python3"
  },
  "language_info": {
   "codemirror_mode": {
    "name": "ipython",
    "version": 3
   },
   "file_extension": ".py",
   "mimetype": "text/x-python",
   "name": "python",
   "nbconvert_exporter": "python",
   "pygments_lexer": "ipython3",
   "version": "3.8.11"
  }
 },
 "nbformat": 4,
 "nbformat_minor": 5
}
